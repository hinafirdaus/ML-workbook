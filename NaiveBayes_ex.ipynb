{
 "cells": [
  {
   "cell_type": "code",
   "execution_count": 13,
   "metadata": {},
   "outputs": [
    {
     "name": "stderr",
     "output_type": "stream",
     "text": [
      "C:\\Users\\Dell\\Anaconda3\\lib\\site-packages\\pandas\\core\\frame.py:6692: FutureWarning: Sorting because non-concatenation axis is not aligned. A future version\n",
      "of pandas will change to not sort by default.\n",
      "\n",
      "To accept the future behavior, pass 'sort=False'.\n",
      "\n",
      "To retain the current behavior and silence the warning, pass 'sort=True'.\n",
      "\n",
      "  sort=sort)\n"
     ]
    }
   ],
   "source": [
    "#filtering e-mail into spam and ham\n",
    "\n",
    "import os\n",
    "import io\n",
    "import numpy as np \n",
    "from pandas import DataFrame as df\n",
    "from sklearn.feature_extraction.text import CountVectorizer as cv\n",
    "from sklearn.naive_bayes import MultinomialNB as mnb\n",
    "\n",
    "def readFiles(path):\n",
    "    for root, dirnames, filenames in os.walk(path):\n",
    "        for filename in filenames:\n",
    "            path=os.path.join(root,filename)\n",
    "            inBody=False\n",
    "            lines=[]\n",
    "            f=io.open(path,'r',encoding='latin1')\n",
    "        for line in f:\n",
    "            if inBody:\n",
    "                lines.append(line)\n",
    "            elif line=='\\n':\n",
    "                inBody=True\n",
    "        f.close()\n",
    "        message='\\n'.join(lines)\n",
    "        yield path, message\n",
    "                \n",
    "def dataFramefromDirectory(path, classification):\n",
    "    rows=[]\n",
    "    index=[]\n",
    "    for filename, message in readFiles(path):\n",
    "        rows.append({'message':message,'class':classification})\n",
    "        index.append(filename)\n",
    "    return df(rows, index=index)\n",
    "data=df({'message':[],'class':[]})\n",
    "data=data.append(dataFramefromDirectory('emails/spam','spam'))\n",
    "data=data.append(dataFramefromDirectory('emails/ham','ham'))\n"
   ]
  },
  {
   "cell_type": "code",
   "execution_count": 17,
   "metadata": {},
   "outputs": [
    {
     "data": {
      "text/html": [
       "<div>\n",
       "<style scoped>\n",
       "    .dataframe tbody tr th:only-of-type {\n",
       "        vertical-align: middle;\n",
       "    }\n",
       "\n",
       "    .dataframe tbody tr th {\n",
       "        vertical-align: top;\n",
       "    }\n",
       "\n",
       "    .dataframe thead th {\n",
       "        text-align: right;\n",
       "    }\n",
       "</style>\n",
       "<table border=\"1\" class=\"dataframe\">\n",
       "  <thead>\n",
       "    <tr style=\"text-align: right;\">\n",
       "      <th></th>\n",
       "      <th>class</th>\n",
       "      <th>message</th>\n",
       "    </tr>\n",
       "  </thead>\n",
       "  <tbody>\n",
       "    <tr>\n",
       "      <th>emails/spam\\00500.85b72f09f6778a085dc8b6821965a76f</th>\n",
       "      <td>spam</td>\n",
       "      <td>&lt;STYLE type=\"text/css\"&gt;\\n\\n&lt;!--\\n\\nP{\\n\\n  fon...</td>\n",
       "    </tr>\n",
       "    <tr>\n",
       "      <th>emails/ham\\02500.05b3496ce7bca306bed0805425ec8621</th>\n",
       "      <td>ham</td>\n",
       "      <td>\\n\\nHi,\\n\\n\\n\\nI think you need to give us a l...</td>\n",
       "    </tr>\n",
       "  </tbody>\n",
       "</table>\n",
       "</div>"
      ],
      "text/plain": [
       "                                                   class  \\\n",
       "emails/spam\\00500.85b72f09f6778a085dc8b6821965a76f  spam   \n",
       "emails/ham\\02500.05b3496ce7bca306bed0805425ec8621    ham   \n",
       "\n",
       "                                                                                              message  \n",
       "emails/spam\\00500.85b72f09f6778a085dc8b6821965a76f  <STYLE type=\"text/css\">\\n\\n<!--\\n\\nP{\\n\\n  fon...  \n",
       "emails/ham\\02500.05b3496ce7bca306bed0805425ec8621   \\n\\nHi,\\n\\n\\n\\nI think you need to give us a l...  "
      ]
     },
     "execution_count": 17,
     "metadata": {},
     "output_type": "execute_result"
    }
   ],
   "source": [
    "data.head(15)"
   ]
  },
  {
   "cell_type": "code",
   "execution_count": 44,
   "metadata": {},
   "outputs": [
    {
     "data": {
      "text/plain": [
       "MultinomialNB(alpha=1.0, class_prior=None, fit_prior=True)"
      ]
     },
     "execution_count": 44,
     "metadata": {},
     "output_type": "execute_result"
    }
   ],
   "source": [
    "vectorizer=cv()\n",
    "counts=vectorizer.fit_transform(data['message'].values).toarray()\n",
    "classifier=mnb()\n",
    "targets=data['class'].values\n",
    "classifier.fit(counts, targets)\n"
   ]
  },
  {
   "cell_type": "code",
   "execution_count": 45,
   "metadata": {},
   "outputs": [
    {
     "data": {
      "text/plain": [
       "array(['ham', 'ham', 'ham', 'ham', 'ham', 'ham'], dtype='<U4')"
      ]
     },
     "execution_count": 45,
     "metadata": {},
     "output_type": "execute_result"
    }
   ],
   "source": [
    "examples=['fight cancer','You win thousands of dollars','trip to canada','give your bank account number','marketing need','vigara']\n",
    "example_counts=vectorizer.transform(examples)\n",
    "predictions=classifier.predict(example_counts)\n",
    "predictions"
   ]
  },
  {
   "cell_type": "markdown",
   "metadata": {},
   "source": [
    "# Activity\n",
    "\n",
    "Our data set is small, so our spam classifier isn't actually very good. Try running some different test emails through it and see if you get the results you expect.\n",
    "\n",
    "If you really want to challenge yourself, try applying train/test to this spam classifier - see how well it can predict some subset of the ham and spam emails."
   ]
  },
  {
   "cell_type": "code",
   "execution_count": 46,
   "metadata": {},
   "outputs": [],
   "source": [
    "from sklearn.cross_validation import train_test_split\n",
    "trainX, testX, trainy, testy= train_test_split(counts, targets, test_size=0.20)"
   ]
  },
  {
   "cell_type": "code",
   "execution_count": 47,
   "metadata": {},
   "outputs": [
    {
     "name": "stderr",
     "output_type": "stream",
     "text": [
      "C:\\Users\\Dell\\Anaconda3\\lib\\site-packages\\sklearn\\naive_bayes.py:461: RuntimeWarning: divide by zero encountered in log\n",
      "  self.class_log_prior_ = (np.log(self.class_count_) -\n"
     ]
    }
   ],
   "source": [
    "classifier=mnb(alpha=1.0, class_prior=None, fit_prior=True)\n",
    "classifier.fit(trainX, trainy)\n",
    "predy=classifier.predict(testX)"
   ]
  },
  {
   "cell_type": "code",
   "execution_count": 49,
   "metadata": {},
   "outputs": [
    {
     "data": {
      "text/plain": [
       "array([[0, 1],\n",
       "       [0, 0]], dtype=int64)"
      ]
     },
     "execution_count": 49,
     "metadata": {},
     "output_type": "execute_result"
    }
   ],
   "source": [
    "from sklearn.metrics import confusion_matrix\n",
    "cm=confusion_matrix(testy, predy)\n",
    "cm"
   ]
  },
  {
   "cell_type": "code",
   "execution_count": 54,
   "metadata": {},
   "outputs": [
    {
     "data": {
      "text/plain": [
       "0.0"
      ]
     },
     "execution_count": 54,
     "metadata": {},
     "output_type": "execute_result"
    }
   ],
   "source": [
    "from sklearn.metrics import accuracy_score\n",
    "accuracy_score(testy, predy)"
   ]
  },
  {
   "cell_type": "code",
   "execution_count": 55,
   "metadata": {},
   "outputs": [
    {
     "data": {
      "text/plain": [
       "0"
      ]
     },
     "execution_count": 55,
     "metadata": {},
     "output_type": "execute_result"
    }
   ],
   "source": [
    "accuracy_score(testy, predy, normalize=False)"
   ]
  },
  {
   "cell_type": "code",
   "execution_count": null,
   "metadata": {
    "collapsed": true
   },
   "outputs": [],
   "source": []
  }
 ],
 "metadata": {
  "kernelspec": {
   "display_name": "Python 3",
   "language": "python",
   "name": "python3"
  },
  "language_info": {
   "codemirror_mode": {
    "name": "ipython",
    "version": 3
   },
   "file_extension": ".py",
   "mimetype": "text/x-python",
   "name": "python",
   "nbconvert_exporter": "python",
   "pygments_lexer": "ipython3",
   "version": "3.6.3"
  }
 },
 "nbformat": 4,
 "nbformat_minor": 2
}
