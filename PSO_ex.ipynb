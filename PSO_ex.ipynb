{
 "cells": [
  {
   "cell_type": "code",
   "execution_count": 4,
   "metadata": {},
   "outputs": [
    {
     "name": "stdout",
     "output_type": "stream",
     "text": [
      "Stopping search: Swarm best objective change less than 1e-08\n"
     ]
    }
   ],
   "source": [
    "from pyswarm import pso\n",
    "def banana(x):\n",
    "    x1=x[0]\n",
    "    x2=x[1]\n",
    "    return x1**4-2*x2*x1**2 + x2**2 + x1**2 - 2*x1 +5\n",
    "def con(x):\n",
    "    x1=x[0]\n",
    "    x2=x[1]\n",
    "    return [-(x1 + 0.25)**2 + 0.75*x2]\n",
    "lb=[-4,-3]\n",
    "ub=[3,10]\n",
    "xopt,fopt=pso(banana, lb, ub, f_ieqcons=con)"
   ]
  },
  {
   "cell_type": "code",
   "execution_count": 14,
   "metadata": {},
   "outputs": [
    {
     "name": "stdout",
     "output_type": "stream",
     "text": [
      "Stopping search: maximum iterations reached --> 100\n",
      "However, the optimization couldn't find a feasible design. Sorry\n"
     ]
    }
   ],
   "source": [
    "import numpy as np\n",
    "from pyswarm import pso\n",
    "\n",
    "def weight(x,*args):\n",
    "    H,d,t=x\n",
    "    B,rho,E,P=args\n",
    "    return rho*2*np.pi*d*t*np.sqrt((B/2)**2 + H**2)\n",
    "def yield_stress(x,*args):\n",
    "    H,d,t=x\n",
    "    B,rho,E,P=args\n",
    "    strs= (P*np.sqrt((B/2)**2 + H**2)) / (2*t*np.pi*d*H)\n",
    "    return 100-strs\n",
    "\n",
    "def buckling_stress(x,*args):\n",
    "    H,d,t=x\n",
    "    B,rho,E,P=args\n",
    "    buck= (np.pi**2*E*(d**2 + t**2))/(8*((B/2)**2 + H**2))\n",
    "    strs=yield_stress(x,*args)\n",
    "    return buck-strs\n",
    "\n",
    "def deflection(x,*args):\n",
    "    H,d,t=x\n",
    "    B,rho,E,P = args\n",
    "    defl= (P*np.sqrt((B/2)**2 + H**2)**3)/(2*t*np.pi*d*H**2*2)\n",
    "    return 0.25-defl\n",
    "\n",
    "def constraints(x, *args):\n",
    "    strs=yield_stress(x,*args)\n",
    "    buck=buckling_stress(x,*args)\n",
    "    defl=deflection(x,*args)\n",
    "    return[100-strs, buck-strs, 0.25-defl]\n",
    "\n",
    "B=100 #inches\n",
    "rho=0.5 #lb/n^3\n",
    "E=50000 #kpsi(1000-psi)\n",
    "P=77 #kip(1000-lbs, force)\n",
    "args=(B,rho,E,P)\n",
    "lb=[10,1,0.01]\n",
    "ub=[30,3,0.25]\n",
    "\n",
    "cons=[yield_stress, buckling_stress, deflection]\n",
    "\n",
    "xopt, fopt=pso(weight, lb, ub, ieqcons=cons, args=args)\n"
   ]
  },
  {
   "cell_type": "code",
   "execution_count": null,
   "metadata": {
    "collapsed": true
   },
   "outputs": [],
   "source": []
  }
 ],
 "metadata": {
  "kernelspec": {
   "display_name": "Python 3",
   "language": "python",
   "name": "python3"
  },
  "language_info": {
   "codemirror_mode": {
    "name": "ipython",
    "version": 3
   },
   "file_extension": ".py",
   "mimetype": "text/x-python",
   "name": "python",
   "nbconvert_exporter": "python",
   "pygments_lexer": "ipython3",
   "version": "3.6.3"
  }
 },
 "nbformat": 4,
 "nbformat_minor": 2
}
