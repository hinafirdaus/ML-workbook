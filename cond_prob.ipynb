{
 "cells": [
  {
   "cell_type": "code",
   "execution_count": 35,
   "metadata": {
    "collapsed": true
   },
   "outputs": [],
   "source": [
    "#conditional probability exercise\n",
    "#We are going to calculate the total purchases by different age group, people having in the age group of 20, 30 40, 50, 60, 70\n",
    "\n",
    "from numpy import random\n",
    "random.seed(0)\n",
    "\n",
    "total={20:0, 30:0, 40:0, 50:0, 60:0, 70:0}\n",
    "purchase={20:0, 30:0, 40:0, 50:0, 60:0, 70:0}\n",
    "ttlpur=0\n",
    "for _ in range(100000):\n",
    "    ageDecade= random.choice([20,30,40,50,60,70])\n",
    "    purchaseprob=float(ageDecade)/100.0\n",
    "    total[ageDecade] +=1\n",
    "    if(random.random() < purchaseprob):\n",
    "        ttlpur +=1\n",
    "        purchase[ageDecade] +=1\n",
    "        "
   ]
  },
  {
   "cell_type": "code",
   "execution_count": 36,
   "metadata": {},
   "outputs": [
    {
     "name": "stdout",
     "output_type": "stream",
     "text": [
      "Total:  {20: 16576, 30: 16619, 40: 16632, 50: 16805, 60: 16664, 70: 16704}\n"
     ]
    }
   ],
   "source": [
    "print(\"Total: \", total)"
   ]
  },
  {
   "cell_type": "code",
   "execution_count": 37,
   "metadata": {},
   "outputs": [
    {
     "name": "stdout",
     "output_type": "stream",
     "text": [
      "Purchases:  {20: 3392, 30: 4974, 40: 6670, 50: 8319, 60: 9944, 70: 11713}\n"
     ]
    }
   ],
   "source": [
    "print(\"Purchases: \", purchase)"
   ]
  },
  {
   "cell_type": "code",
   "execution_count": 38,
   "metadata": {},
   "outputs": [
    {
     "name": "stdout",
     "output_type": "stream",
     "text": [
      "Total Purchase:  45012\n"
     ]
    }
   ],
   "source": [
    "print(\"Total Purchase: \", ttlpur)"
   ]
  },
  {
   "cell_type": "code",
   "execution_count": 60,
   "metadata": {},
   "outputs": [
    {
     "name": "stdout",
     "output_type": "stream",
     "text": [
      "P(purchase | 30s): 0.29929598652145134\n"
     ]
    }
   ],
   "source": [
    "#conditional probability for P(E|F), E: events of purchase, F: events of purchase for 30's\n",
    "\n",
    "PEF = (float(purchase[30]) / float(total[30]))\n",
    "print('P(purchase | 30s): ' + str(PEF))"
   ]
  },
  {
   "cell_type": "code",
   "execution_count": 62,
   "metadata": {},
   "outputs": [
    {
     "name": "stdout",
     "output_type": "stream",
     "text": [
      "P(30's): 0.16619\n"
     ]
    }
   ],
   "source": [
    "#probability of P(F), i.e. probability of being 30\n",
    "\n",
    "PF = float(total[30])/ 100000.0\n",
    "print(\"P(30's): \" + str(PF))"
   ]
  },
  {
   "cell_type": "code",
   "execution_count": 57,
   "metadata": {},
   "outputs": [
    {
     "name": "stdout",
     "output_type": "stream",
     "text": [
      "P(purchase): 0.45012\n"
     ]
    }
   ],
   "source": [
    "#Probability of purchase P(E)\n",
    "\n",
    "PE=(float(ttlpur)/100000.0)\n",
    "print(\"P(purchase): \"+str(PE))"
   ]
  },
  {
   "cell_type": "code",
   "execution_count": 58,
   "metadata": {},
   "outputs": [
    {
     "name": "stdout",
     "output_type": "stream",
     "text": [
      "P(30's, Purchase): 0.04974\n"
     ]
    }
   ],
   "source": [
    "#The probability of E and F are dependent as the probability of P(E|F) and P(E) are different\n",
    "#The P(E,F)--> probability of people being in 30's making purchase is totally different from P(E|F)\n",
    "\n",
    "print(\"P(30's, Purchase): \"+str(float(purchase[30])/100000.0))"
   ]
  },
  {
   "cell_type": "code",
   "execution_count": 63,
   "metadata": {},
   "outputs": [
    {
     "name": "stdout",
     "output_type": "stream",
     "text": [
      "P(30's)P(purchase): 0.07480544280000001\n"
     ]
    }
   ],
   "source": [
    "#Now we have P(E) and P(F) the event is mutually exculsive so P(E)P(F)\n",
    "\n",
    "print(\"P(30's)P(purchase): \"+str(PE * PF))"
   ]
  },
  {
   "cell_type": "markdown",
   "metadata": {
    "collapsed": true
   },
   "source": [
    "# Your Assignment\n",
    "Modify the code above such that the purchase probability does NOT vary with age, making E and F actually independent.\n",
    "\n",
    "Then, confirm that P(E|F) is about the same as P(E), showing that the conditional probability of purchase for a given age is not any different than the a-priori probability of purchase regardless of age."
   ]
  },
  {
   "cell_type": "code",
   "execution_count": 1,
   "metadata": {
    "collapsed": true
   },
   "outputs": [],
   "source": [
    "%matplotlib inline\n",
    "import matplotlib.pyplot as plt \n",
    "from numpy import random\n",
    "random.seed(0)\n",
    "\n",
    "total={20:0, 30:0, 40:0, 50:0, 60:0, 70:0}\n",
    "purchase={20:0, 30:0, 40:0, 50:0, 60:0, 70:0}\n",
    "ttlpur=0\n",
    "for _ in range(100000):\n",
    "    ageDecade= random.choice([20,30,40,50,60,70])\n",
    "    purchaseprob=0.5\n",
    "    total[ageDecade] +=1\n",
    "    if(random.random() < purchaseprob):\n",
    "        ttlpur +=1\n",
    "        purchase[ageDecade] +=1\n",
    "        "
   ]
  },
  {
   "cell_type": "code",
   "execution_count": 2,
   "metadata": {},
   "outputs": [
    {
     "name": "stdout",
     "output_type": "stream",
     "text": [
      "Totals:  {20: 16576, 30: 16619, 40: 16632, 50: 16805, 60: 16664, 70: 16704}\n",
      "Purchase:  {20: 8378, 30: 8293, 40: 8364, 50: 8319, 60: 8276, 70: 8456}\n",
      "Total Purchase:  50086\n"
     ]
    }
   ],
   "source": [
    "print(\"Totals: \",total)\n",
    "print(\"Purchase: \",purchase)\n",
    "print(\"Total Purchase: \",ttlpur)\n"
   ]
  },
  {
   "cell_type": "code",
   "execution_count": 19,
   "metadata": {},
   "outputs": [
    {
     "name": "stdout",
     "output_type": "stream",
     "text": [
      "P(purchase|30's): 0.49900716047896987\n"
     ]
    }
   ],
   "source": [
    "PEF=float(purchase[30])/float(total[30])\n",
    "print(\"P(purchase|30's): \"+str(PEF))"
   ]
  },
  {
   "cell_type": "code",
   "execution_count": 20,
   "metadata": {},
   "outputs": [
    {
     "name": "stdout",
     "output_type": "stream",
     "text": [
      "P(30's): 0.16619\n"
     ]
    }
   ],
   "source": [
    "PF=float(total[30])/100000.0\n",
    "print(\"P(30's): \"+str(PF))"
   ]
  },
  {
   "cell_type": "code",
   "execution_count": 22,
   "metadata": {},
   "outputs": [
    {
     "name": "stdout",
     "output_type": "stream",
     "text": [
      "P(purchase): 0.50086\n"
     ]
    }
   ],
   "source": [
    "PE=float(ttlpur)/100000.0\n",
    "print(\"P(purchase): \"+str(PE))"
   ]
  },
  {
   "cell_type": "code",
   "execution_count": 21,
   "metadata": {},
   "outputs": [
    {
     "name": "stdout",
     "output_type": "stream",
     "text": [
      "P(30's, purchase)0.08293\n"
     ]
    }
   ],
   "source": [
    "print(\"P(30's, purchase)\" + str(float(purchase[30])/100000.0))"
   ]
  },
  {
   "cell_type": "code",
   "execution_count": 23,
   "metadata": {},
   "outputs": [
    {
     "name": "stdout",
     "output_type": "stream",
     "text": [
      "P(30's)P(purchase): 0.0832379234\n"
     ]
    }
   ],
   "source": [
    "print(\"P(30's)P(purchase): \"+str(PE*PF))"
   ]
  },
  {
   "cell_type": "code",
   "execution_count": null,
   "metadata": {},
   "outputs": [],
   "source": []
  },
  {
   "cell_type": "code",
   "execution_count": null,
   "metadata": {
    "collapsed": true
   },
   "outputs": [],
   "source": []
  }
 ],
 "metadata": {
  "kernelspec": {
   "display_name": "Python 3",
   "language": "python",
   "name": "python3"
  },
  "language_info": {
   "codemirror_mode": {
    "name": "ipython",
    "version": 3
   },
   "file_extension": ".py",
   "mimetype": "text/x-python",
   "name": "python",
   "nbconvert_exporter": "python",
   "pygments_lexer": "ipython3",
   "version": "3.6.3"
  }
 },
 "nbformat": 4,
 "nbformat_minor": 2
}
