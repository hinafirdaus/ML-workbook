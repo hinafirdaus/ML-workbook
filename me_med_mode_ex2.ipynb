{
 "cells": [
  {
   "cell_type": "code",
   "execution_count": 4,
   "metadata": {},
   "outputs": [
    {
     "name": "stdout",
     "output_type": "stream",
     "text": [
      "mean:  26967.5050208\n"
     ]
    }
   ],
   "source": [
    "#normal distribution using numpy mu=27000, sigma=15000, x=10000\n",
    "\n",
    "import numpy as np\n",
    "income = np.random.normal(27000,15000,10000)\n",
    "print(\"mean: \", np.mean(income))\n"
   ]
  },
  {
   "cell_type": "code",
   "execution_count": 8,
   "metadata": {},
   "outputs": [
    {
     "data": {
      "image/png": "[encoded data removed]",
      "text/plain": [
       "<matplotlib.figure.Figure at 0x63e5b96da0>"
      ]
     },
     "metadata": {},
     "output_type": "display_data"
    }
   ],
   "source": [
    "%matplotlib inline\n",
    "import matplotlib.pyplot as plt\n",
    "plt.hist(income, 50)\n",
    "plt.show()"
   ]
  },
  {
   "cell_type": "code",
   "execution_count": 10,
   "metadata": {},
   "outputs": [
    {
     "name": "stdout",
     "output_type": "stream",
     "text": [
      "median:  26922.4080674\n"
     ]
    }
   ],
   "source": [
    "print(\"median: \", np.median(income))"
   ]
  },
  {
   "cell_type": "code",
   "execution_count": 12,
   "metadata": {},
   "outputs": [],
   "source": [
    "income =np.append(income,[1000000000])\n"
   ]
  },
  {
   "cell_type": "code",
   "execution_count": 13,
   "metadata": {},
   "outputs": [
    {
     "data": {
      "text/plain": [
       "26925.315014667282"
      ]
     },
     "execution_count": 13,
     "metadata": {},
     "output_type": "execute_result"
    }
   ],
   "source": [
    "np.median(income)"
   ]
  },
  {
   "cell_type": "code",
   "execution_count": 14,
   "metadata": {},
   "outputs": [
    {
     "data": {
      "text/plain": [
       "126954.80953985387"
      ]
     },
     "execution_count": 14,
     "metadata": {},
     "output_type": "execute_result"
    }
   ],
   "source": [
    "np.mean(income)"
   ]
  },
  {
   "cell_type": "code",
   "execution_count": 15,
   "metadata": {},
   "outputs": [
    {
     "data": {
      "text/plain": [
       "array([32, 19, 20, 37, 73, 77, 39, 24, 74, 67, 56, 87, 70, 49, 57, 49, 88,\n",
       "       69, 86, 86, 83, 76, 40, 23, 21, 79, 81, 44, 31, 26, 54, 67, 31, 52,\n",
       "       57, 79, 28, 69, 39, 75, 87, 35, 84, 24, 80, 45, 77, 31, 50, 62, 47,\n",
       "       83, 66, 30, 27, 62, 60, 87, 26, 72, 82, 65, 81, 42, 57, 75, 82, 66,\n",
       "       29, 72, 19, 39, 68, 89, 73, 34, 48, 45, 53, 64, 85, 67, 45, 43, 42,\n",
       "       26, 19, 52, 69, 23, 84, 85, 80, 19, 33, 48, 80, 33, 64, 68, 58, 31,\n",
       "       59, 74, 61, 86, 72, 40, 54, 89, 66, 87, 35, 37, 71, 42, 52, 41, 65,\n",
       "       18, 82, 22, 59, 41, 67, 23, 66, 56, 27, 56, 67, 63, 68, 50, 43, 65,\n",
       "       57, 25, 78, 34, 41, 50, 38, 44, 82, 83, 83, 79, 89, 86, 39, 61, 75,\n",
       "       43, 75, 30, 49, 30, 54, 27, 25, 71, 39, 38, 89, 86, 70, 82, 55, 20,\n",
       "       45, 76, 84, 41, 69, 80, 41, 85, 40, 73, 76, 59, 31, 23, 83, 26, 47,\n",
       "       43, 39, 72, 34, 31, 30, 50, 20, 48, 31, 38, 41, 52, 56, 80, 48, 55,\n",
       "       86, 87, 64, 67, 78, 47, 60, 24, 45, 76, 88, 35, 57, 52, 50, 18, 58,\n",
       "       75, 86, 79, 68, 40, 82, 52, 30, 50, 27, 73, 32, 24, 43, 82, 82, 37,\n",
       "       43, 20, 35, 59, 39, 55, 55, 65, 52, 73, 56, 32, 71, 31, 27, 71, 53,\n",
       "       64, 68, 70, 21, 30, 62, 63, 37, 47, 72, 34, 42, 24, 67, 69, 80, 60,\n",
       "       32, 57, 81, 71, 34, 75, 28, 54, 27, 69, 72, 25, 18, 57, 37, 26, 46,\n",
       "       71, 57, 39, 24, 87, 83, 65, 77, 26, 56, 35, 84, 49, 62, 72, 25, 79,\n",
       "       61, 32, 62, 57, 44, 38, 80, 88, 66, 87, 64, 87, 33, 58, 62, 55, 73,\n",
       "       62, 32, 86, 40, 56, 22, 27, 23, 42, 22, 67, 89, 79, 41, 21, 75, 57,\n",
       "       25, 22, 76, 54, 69, 85, 69, 78, 72, 64, 22, 58, 40, 64, 70, 33, 59,\n",
       "       55, 51, 41, 34, 66, 76, 35, 52, 31, 41, 60, 46, 86, 35, 67, 75, 87,\n",
       "       41, 75, 55, 47, 45, 44, 54, 60, 31, 80, 60, 54, 57, 20, 68, 24, 47,\n",
       "       66, 78, 24, 18, 63, 26, 35, 20, 61, 71, 80, 45, 87, 48, 22, 83, 89,\n",
       "       29, 86, 45, 62, 48, 25, 29, 82, 83, 55, 66, 41, 48, 43, 51, 79, 18,\n",
       "       89, 72, 36, 29, 28, 74, 31, 66, 57, 50, 26, 42, 25, 28, 84, 51, 88,\n",
       "       68, 63, 80, 49, 84, 73, 78, 31, 73, 85, 27, 28, 53, 47, 63, 79, 34,\n",
       "       51, 78, 26, 60, 35, 71, 58, 56, 29, 83, 72, 38, 76, 55, 38, 45, 70,\n",
       "       51, 77, 60, 28, 64, 67, 30, 62, 25, 50, 69, 75, 73, 34, 50, 23, 59,\n",
       "       32, 79, 41, 22, 50, 41, 56])"
      ]
     },
     "execution_count": 15,
     "metadata": {},
     "output_type": "execute_result"
    }
   ],
   "source": [
    "#mode --- fake age data for 500 people\n",
    "\n",
    "ages=np.random.randint(18, high=90, size=500)\n",
    "ages\n"
   ]
  },
  {
   "cell_type": "code",
   "execution_count": 16,
   "metadata": {},
   "outputs": [
    {
     "data": {
      "text/plain": [
       "ModeResult(mode=array([41]), count=array([13]))"
      ]
     },
     "execution_count": 16,
     "metadata": {},
     "output_type": "execute_result"
    }
   ],
   "source": [
    "from scipy import stats\n",
    "stats.mode(ages)"
   ]
  },
  {
   "cell_type": "code",
   "execution_count": null,
   "metadata": {
    "collapsed": true
   },
   "outputs": [],
   "source": []
  }
 ],
 "metadata": {
  "kernelspec": {
   "display_name": "Python 3",
   "language": "python",
   "name": "python3"
  },
  "language_info": {
   "codemirror_mode": {
    "name": "ipython",
    "version": 3
   },
   "file_extension": ".py",
   "mimetype": "text/x-python",
   "name": "python",
   "nbconvert_exporter": "python",
   "pygments_lexer": "ipython3",
   "version": "3.6.3"
  }
 },
 "nbformat": 4,
 "nbformat_minor": 2
}
